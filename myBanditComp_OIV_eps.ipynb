{
 "cells": [
  {
   "cell_type": "code",
   "execution_count": 83,
   "metadata": {},
   "outputs": [],
   "source": [
    "import numpy as np\n",
    "import matplotlib.pyplot as plt\n",
    "import random as rd"
   ]
  },
  {
   "cell_type": "code",
   "execution_count": 129,
   "metadata": {},
   "outputs": [],
   "source": [
    "class SLotMachine:\n",
    "    def __init__(self,mu,sig,step,initialQ):\n",
    "        self.realMean=mu;\n",
    "        self.sig=sig\n",
    "        self.augMean=initialQ;\n",
    "        self.N=0;\n",
    "        self.step=step;\n",
    "    def pullHandle(self):\n",
    "        return self.sig*np.random.randn()+self.realMean;\n",
    "    def updateMean(self,x):\n",
    "        self.N+=self.step;\n",
    "        self.augMean=(self.augMean+((1/self.N)*(x-self.augMean)))\n",
    "    def printGraphz(self):     \n",
    "        points = 200000\n",
    "        bins1 = 200\n",
    "        y = self.sig*np.random.randn(points)+self.realMean;\n",
    "        plt.hist(y, bins=bins1)\n",
    "        plt.show()\n",
    "        return y\n",
    "    def getRewDist(self):\n",
    "        points = 200000\n",
    "        y = self.sig*np.random.randn(points)+self.realMean\n",
    "        return y;\n",
    "        "
   ]
  },
  {
   "cell_type": "code",
   "execution_count": 130,
   "metadata": {},
   "outputs": [],
   "source": [
    "def generateSlotsMachines(N,stepSize,initialQ):   \n",
    "    n=N;\n",
    "    ticks=[]\n",
    "    machinesz=[]\n",
    "    machineszRewDist=[]\n",
    "    step=stepSize;\n",
    "    for i in range(n):\n",
    "        ticks.append(i);\n",
    "        r1 = random.randint(2, 9);\n",
    "        va= random.randint(2, 3);\n",
    "        m1=SLotMachine(r1,va,step,initialQ)\n",
    "        machineszRewDist.append(m1.getRewDist());\n",
    "        machinesz.append(m1);\n",
    "    plt.violinplot(machineszRewDist,positions=ticks, showmeans=True, showextrema=True, showmedians=True)\n",
    "    plt.show()\n",
    "    return machinesz"
   ]
  },
  {
   "cell_type": "code",
   "execution_count": 131,
   "metadata": {},
   "outputs": [],
   "source": [
    "def findMax(machinesz):\n",
    "    max=-999;\n",
    "    maxInd=0;\n",
    "    for i in range(len(machinesz)):\n",
    "        if machinesz[i].augMean>=max:\n",
    "            max=machinesz[i].augMean;\n",
    "            maxInd=i;\n",
    "    \n",
    "    return maxInd\n",
    "            "
   ]
  },
  {
   "cell_type": "code",
   "execution_count": 137,
   "metadata": {},
   "outputs": [],
   "source": [
    "def exp_esp_inc(N,stepSize,esp,initialQ,trials):\n",
    "    machinesz=generateSlotsMachines(N,stepSize,initialQ);\n",
    "    Rewards=[];\n",
    "    Iter=[];\n",
    "    data=np.empty(N)\n",
    "    for i in range(trials):\n",
    "        p=rd.random();\n",
    "        if p<esp:\n",
    "            k=np.random.choice(N);\n",
    "        else:\n",
    "            k=findMax(machinesz);\n",
    "        \n",
    "        rew=machinesz[k].pullHandle();\n",
    "        machinesz[k].updateMean(rew);\n",
    "        data[k]=rew;\n",
    "\n",
    "    \n",
    "    cum_avg=np.cumsum(data)/(np.arange(N)+1);\n",
    "    plt.plot(cum_avg)\n",
    "    plt.xscale('log')\n",
    "    plt.show()\n",
    "    for m in machinesz:\n",
    "        print(m.augMean,m.realMean,m.realMean-m.augMean)    "
   ]
  },
  {
   "cell_type": "code",
   "execution_count": 139,
   "metadata": {},
   "outputs": [
    {
     "data": {
      "image/png": "[encoded data removed]",
      "text/plain": [
       "<Figure size 432x288 with 1 Axes>"
      ]
     },
     "metadata": {
      "needs_background": "light"
     },
     "output_type": "display_data"
    },
    {
     "data": {
      "image/png": "[encoded data removed]",
      "text/plain": [
       "<Figure size 432x288 with 1 Axes>"
      ]
     },
     "metadata": {
      "needs_background": "light"
     },
     "output_type": "display_data"
    },
    {
     "name": "stdout",
     "output_type": "stream",
     "text": [
      "7.962935017818985 8 0.03706498218101473\n",
      "3.9417465594307473 4 0.058253440569252746\n",
      "8.00091598773278 8 -0.0009159877327800103\n",
      "7.978497123929539 8 0.02150287607046142\n",
      "7.961899730123809 8 0.03810026987619075\n",
      "8.994029548222132 9 0.0059704517778680355\n",
      "7.95473178477871 8 0.045268215221289765\n",
      "5.001538128851211 5 -0.0015381288512106295\n",
      "2.0030678817206438 2 -0.0030678817206437614\n",
      "6.011630562165518 6 -0.011630562165517944\n"
     ]
    }
   ],
   "source": [
    " exp_esp_inc(10,1,0.5,0,100000)"
   ]
  },
  {
   "cell_type": "code",
   "execution_count": null,
   "metadata": {},
   "outputs": [],
   "source": []
  }
 ],
 "metadata": {
  "kernelspec": {
   "display_name": "Python 3",
   "language": "python",
   "name": "python3"
  },
  "language_info": {
   "codemirror_mode": {
    "name": "ipython",
    "version": 3
   },
   "file_extension": ".py",
   "mimetype": "text/x-python",
   "name": "python",
   "nbconvert_exporter": "python",
   "pygments_lexer": "ipython3",
   "version": "3.7.3"
  }
 },
 "nbformat": 4,
 "nbformat_minor": 2
}
