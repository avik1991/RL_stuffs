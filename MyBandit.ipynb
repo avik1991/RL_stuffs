{
 "cells": [
  {
   "cell_type": "code",
   "execution_count": 192,
   "metadata": {},
   "outputs": [],
   "source": [
    "import numpy as np\n",
    "import random\n"
   ]
  },
  {
   "cell_type": "markdown",
   "metadata": {},
   "source": [
    "# Banditas defined Kemosabe!"
   ]
  },
  {
   "cell_type": "code",
   "execution_count": 193,
   "metadata": {},
   "outputs": [],
   "source": [
    "class SLotMachine:\n",
    "    def __init__(self,probability):\n",
    "        self.probability=probability;\n",
    "        self.val=[];\n",
    "        for i in range(0,100):\n",
    "            self.val.append(0);\n",
    "        win=random.sample(range(100), int(self.probability*100))\n",
    "        for i in win:\n",
    "            self.val[i]=1;\n",
    "    def pullHandle(self):\n",
    "        s=random.randrange(0, 100, 1)\n",
    "        return self.val[s];"
   ]
  },
  {
   "cell_type": "markdown",
   "metadata": {},
   "source": [
    "# Experiment setup"
   ]
  },
  {
   "cell_type": "markdown",
   "metadata": {},
   "source": [
    "Experiment 1"
   ]
  },
  {
   "cell_type": "code",
   "execution_count": 194,
   "metadata": {},
   "outputs": [],
   "source": [
    "def testbed(n):\n",
    "    banditas=[]\n",
    "    for i in range(n):\n",
    "        p=random.random();\n",
    "        banditas.append(SLotMachine(p));\n",
    "    return banditas;\n",
    "        "
   ]
  },
  {
   "cell_type": "code",
   "execution_count": 195,
   "metadata": {},
   "outputs": [],
   "source": [
    "def printBanditProbability(banditas):\n",
    "    j=0;\n",
    "    for i in banditas:\n",
    "        print(j,\" p =\",i.probability);\n",
    "        j=j+1;\n",
    "    print(\"total Bandits :\",len(banditas))"
   ]
  },
  {
   "cell_type": "code",
   "execution_count": 196,
   "metadata": {},
   "outputs": [],
   "source": [
    "def getQvals(banditas,rS,aS):\n",
    "    n=len(banditas);\n",
    "    qVal=[0]*n\n",
    "    \n",
    "    for i in range(n):\n",
    "        if aS[i]==0.0:\n",
    "            qVal[i]=0.0;\n",
    "        else :\n",
    "            qVal[i]=rS[i]/aS[i];\n",
    "        \n",
    "    return qVal;\n",
    "    "
   ]
  },
  {
   "cell_type": "code",
   "execution_count": 197,
   "metadata": {},
   "outputs": [],
   "source": [
    "def getError(banditas,pvals):\n",
    "    n=len(banditas);\n",
    "    \n",
    "    sumP=0.0;\n",
    "    for i in range(n):\n",
    "        sumP=sumP+(abs(banditas[i].probability-pvals[i]));\n",
    "    avGerr=sumP/n;\n",
    "    return avGerr;\n",
    "    \n",
    "    "
   ]
  },
  {
   "cell_type": "markdown",
   "metadata": {},
   "source": [
    "# Random Select Algorithm "
   ]
  },
  {
   "cell_type": "code",
   "execution_count": 198,
   "metadata": {},
   "outputs": [],
   "source": [
    "def randSelect(banditas,trials):\n",
    "    n=len(banditas);\n",
    "    rS=[0.0]*n;\n",
    "    aS=[0.0]*n;\n",
    "    bS=[];\n",
    "    for i in range(n):\n",
    "        bS.append(i);\n",
    "    err=[]\n",
    "    for i in range(trials):\n",
    "        sA=random.choice(bS);\n",
    "        r=banditas[sA].pullHandle();\n",
    "        rS[sA]=rS[sA]+r;\n",
    "        aS[sA]=aS[sA]+1;\n",
    "        qvals=getQvals(banditas,rS,aS)\n",
    "        err.append(getError(banditas,qvals))\n",
    "    #qvals=getQvals(banditas,rS,aS);\n",
    "    #return qvals;\n",
    "    return (rS,aS,err);"
   ]
  },
  {
   "cell_type": "markdown",
   "metadata": {},
   "source": [
    "# greedy Select Algo"
   ]
  },
  {
   "cell_type": "code",
   "execution_count": 199,
   "metadata": {},
   "outputs": [],
   "source": [
    "def GreedySelect(banditas,rS1,aS1,runs):\n",
    "    n=len(banditas);\n",
    "    rS=rS1;\n",
    "    aS=aS1;\n",
    "    qValAvg=[0]*runs;\n",
    "    qval1=[0]*n;\n",
    "    err=[]\n",
    "    for i in range(runs):\n",
    "        qvals=getQvals(banditas,rS,aS);\n",
    "        maxqVal=qvals.index(max(qvals));\n",
    "        r=banditas[maxqVal].pullHandle();\n",
    "        rS[maxqVal]=rS[maxqVal]+r;\n",
    "        aS[maxqVal]=aS[maxqVal]+1;\n",
    "        qvals=getQvals(banditas,rS,aS);\n",
    "        err.append(getError(banditas,qvals));\n",
    "        qSum=0;\n",
    "        qAvg=0\n",
    "        for j in range(n):\n",
    "            qSum=qSum+qvals[j];\n",
    "        qValAvg[i]=qSum/n;\n",
    "        qval1=qvals;\n",
    "    return (qValAvg,qval1,err,rS,aS); "
   ]
  },
  {
   "cell_type": "markdown",
   "metadata": {},
   "source": [
    "# Plots"
   ]
  },
  {
   "cell_type": "code",
   "execution_count": 200,
   "metadata": {},
   "outputs": [],
   "source": [
    "import matplotlib.pyplot as plt\n",
    "\n",
    "\n",
    "def GraphPlot(banditas,qValAvg,exp,runs):\n",
    "    x_ax=range(0,runs);\n",
    "    plt.plot(x_ax,qValAvg) \n",
    "  \n",
    "    plt.xlabel('steps') \n",
    "    plt.ylabel('average Reward') \n",
    "    plt.title('steps vs average Reward for :'+exp) \n",
    "    plt.show()\n",
    "    "
   ]
  },
  {
   "cell_type": "code",
   "execution_count": 201,
   "metadata": {},
   "outputs": [],
   "source": [
    "def GraphPlotError(err,runs):\n",
    "    x_ax=range(0,runs);\n",
    "    plt.plot(x_ax,err) \n",
    "  \n",
    "    plt.xlabel('steps') \n",
    "    plt.ylabel('Avg error ') \n",
    "    plt.title('error vs runs') \n",
    "    plt.show()"
   ]
  },
  {
   "cell_type": "markdown",
   "metadata": {},
   "source": [
    "# Experiment Runs"
   ]
  },
  {
   "cell_type": "code",
   "execution_count": 202,
   "metadata": {},
   "outputs": [
    {
     "name": "stdout",
     "output_type": "stream",
     "text": [
      "0  p = 0.6180582278350676\n",
      "1  p = 0.9219300281404429\n",
      "2  p = 0.3161409369703301\n",
      "3  p = 0.8143239892027936\n",
      "4  p = 0.4116166263602493\n",
      "5  p = 0.3806646576902516\n",
      "6  p = 0.2280711818608161\n",
      "7  p = 0.12739506362856945\n",
      "8  p = 0.9087480481859231\n",
      "9  p = 0.8866727606679978\n",
      "total Bandits : 10\n"
     ]
    }
   ],
   "source": [
    "banditas=testbed(10)\n",
    "printBanditProbability(banditas)"
   ]
  },
  {
   "cell_type": "markdown",
   "metadata": {},
   "source": [
    "random Select trials + totally greedy"
   ]
  },
  {
   "cell_type": "code",
   "execution_count": 206,
   "metadata": {},
   "outputs": [
    {
     "name": "stdout",
     "output_type": "stream",
     "text": [
      "p value obtained after trials \n",
      "0 0.581151832460733\n",
      "1 0.912621359223301\n",
      "2 0.29949238578680204\n",
      "3 0.8435754189944135\n",
      "4 0.41237113402061853\n",
      "5 0.35323383084577115\n",
      "6 0.19\n",
      "7 0.14883720930232558\n",
      "8 0.8883495145631068\n",
      "9 0.8246445497630331\n"
     ]
    },
    {
     "data": {
      "image/png": "[encoded data removed]",
      "text/plain": [
       "<Figure size 432x288 with 1 Axes>"
      ]
     },
     "metadata": {
      "needs_background": "light"
     },
     "output_type": "display_data"
    },
    {
     "name": "stdout",
     "output_type": "stream",
     "text": [
      "p value obtained after greedy runs \n",
      "0 0.581151832460733\n",
      "1 0.9189692337840486\n",
      "2 0.29949238578680204\n",
      "3 0.8435754189944135\n",
      "4 0.41237113402061853\n",
      "5 0.35323383084577115\n",
      "6 0.19\n",
      "7 0.14883720930232558\n",
      "8 0.8883495145631068\n",
      "9 0.8246445497630331\n"
     ]
    },
    {
     "data": {
      "image/png": "[encoded data removed]",
      "text/plain": [
       "<Figure size 432x288 with 1 Axes>"
      ]
     },
     "metadata": {
      "needs_background": "light"
     },
     "output_type": "display_data"
    },
    {
     "data": {
      "image/png": "[encoded data removed]",
      "text/plain": [
       "<Figure size 432x288 with 1 Axes>"
      ]
     },
     "metadata": {
      "needs_background": "light"
     },
     "output_type": "display_data"
    }
   ],
   "source": [
    "trials=2000\n",
    "runs=10000\n",
    "res=randSelect(banditas,trials);\n",
    "qvals=getQvals(banditas,res[0],res[1]);\n",
    "j=0\n",
    "print(\"p value obtained after trials \")\n",
    "for i in qvals:\n",
    "    print(j,i);\n",
    "    j=j+1;\n",
    "\n",
    "GraphPlotError(res[2],trials)\n",
    "qavg=GreedySelect(banditas,res[0],res[1],runs)\n",
    "qavg1=getQvals(banditas,qavg[3],qavg[4]);\n",
    "j=0\n",
    "print(\"p value obtained after greedy runs \")\n",
    "for i in qavg1:\n",
    "    print(j,i);\n",
    "    j=j+1;\n",
    "GraphPlotError(qavg[2],runs)\n",
    "\n",
    "exp=\"random Select\"+str(trials) + \" totally greedy runs \"+str(runs);\n",
    "GraphPlot(banditas,qavg[0],exp,runs);"
   ]
  },
  {
   "cell_type": "code",
   "execution_count": null,
   "metadata": {},
   "outputs": [],
   "source": []
  },
  {
   "cell_type": "code",
   "execution_count": null,
   "metadata": {},
   "outputs": [],
   "source": []
  },
  {
   "cell_type": "code",
   "execution_count": null,
   "metadata": {},
   "outputs": [],
   "source": []
  }
 ],
 "metadata": {
  "kernelspec": {
   "display_name": "Python 3",
   "language": "python",
   "name": "python3"
  },
  "language_info": {
   "codemirror_mode": {
    "name": "ipython",
    "version": 3
   },
   "file_extension": ".py",
   "mimetype": "text/x-python",
   "name": "python",
   "nbconvert_exporter": "python",
   "pygments_lexer": "ipython3",
   "version": "3.7.3"
  }
 },
 "nbformat": 4,
 "nbformat_minor": 2
}
